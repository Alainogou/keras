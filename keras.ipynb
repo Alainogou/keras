{
 "cells": [
  {
   "cell_type": "markdown",
   "id": "af134a31-3c8b-4687-b988-712713a02576",
   "metadata": {},
   "source": [
    "#### Exercise 1: Sequential"
   ]
  },
  {
   "cell_type": "code",
   "execution_count": 17,
   "id": "421ae0a0-43ca-4c07-bcac-7b50f22346ae",
   "metadata": {},
   "outputs": [
    {
     "name": "stdout",
     "output_type": "stream",
     "text": [
      "<tensorflow.python.keras.engine.sequential.Sequential object at 0x73ac287e7940>\n"
     ]
    }
   ],
   "source": [
    "from keras import Sequential\n",
    "model = Sequential()\n",
    "print(model)"
   ]
  },
  {
   "cell_type": "markdown",
   "id": "0481e82e-ea76-460e-945f-174961104f7b",
   "metadata": {},
   "source": [
    "#### Exercise 2: Dense"
   ]
  },
  {
   "cell_type": "code",
   "execution_count": 18,
   "id": "4d9159b6-2ee8-4123-9243-614072e03a5c",
   "metadata": {},
   "outputs": [
    {
     "data": {
      "text/plain": [
       "{'name': 'dense_21',\n",
       " 'trainable': True,\n",
       " 'batch_input_shape': (None, 5),\n",
       " 'dtype': 'float32',\n",
       " 'units': 8,\n",
       " 'activation': 'sigmoid',\n",
       " 'use_bias': True,\n",
       " 'kernel_initializer': {'class_name': 'GlorotUniform',\n",
       "  'config': {'seed': None}},\n",
       " 'bias_initializer': {'class_name': 'Zeros', 'config': {}},\n",
       " 'kernel_regularizer': None,\n",
       " 'bias_regularizer': None,\n",
       " 'activity_regularizer': None,\n",
       " 'kernel_constraint': None,\n",
       " 'bias_constraint': None}"
      ]
     },
     "execution_count": 18,
     "metadata": {},
     "output_type": "execute_result"
    }
   ],
   "source": [
    "from keras.layers import Dense\n",
    "first_hidden_layer = Dense(units=8, activation='sigmoid', input_shape=(5,))\n",
    "first_hidden_layer.get_config()"
   ]
  },
  {
   "cell_type": "code",
   "execution_count": 19,
   "id": "9c3469d4-9c39-45bd-ba23-4908a7b1a43b",
   "metadata": {},
   "outputs": [
    {
     "data": {
      "text/plain": [
       "{'name': 'dense_22',\n",
       " 'trainable': True,\n",
       " 'dtype': 'float32',\n",
       " 'units': 4,\n",
       " 'activation': 'sigmoid',\n",
       " 'use_bias': True,\n",
       " 'kernel_initializer': {'class_name': 'GlorotUniform',\n",
       "  'config': {'seed': None}},\n",
       " 'bias_initializer': {'class_name': 'Zeros', 'config': {}},\n",
       " 'kernel_regularizer': None,\n",
       " 'bias_regularizer': None,\n",
       " 'activity_regularizer': None,\n",
       " 'kernel_constraint': None,\n",
       " 'bias_constraint': None}"
      ]
     },
     "execution_count": 19,
     "metadata": {},
     "output_type": "execute_result"
    }
   ],
   "source": [
    "second_hidden_layer = Dense(units=4, activation='sigmoid')\n",
    "second_hidden_layer.get_config()"
   ]
  },
  {
   "cell_type": "code",
   "execution_count": 20,
   "id": "27c84857-9047-4bdb-9d81-c821c13f31ec",
   "metadata": {},
   "outputs": [
    {
     "data": {
      "text/plain": [
       "{'name': 'dense_23',\n",
       " 'trainable': True,\n",
       " 'dtype': 'float32',\n",
       " 'units': 1,\n",
       " 'activation': 'sigmoid',\n",
       " 'use_bias': True,\n",
       " 'kernel_initializer': {'class_name': 'GlorotUniform',\n",
       "  'config': {'seed': None}},\n",
       " 'bias_initializer': {'class_name': 'Zeros', 'config': {}},\n",
       " 'kernel_regularizer': None,\n",
       " 'bias_regularizer': None,\n",
       " 'activity_regularizer': None,\n",
       " 'kernel_constraint': None,\n",
       " 'bias_constraint': None}"
      ]
     },
     "execution_count": 20,
     "metadata": {},
     "output_type": "execute_result"
    }
   ],
   "source": [
    "output_layer = Dense(units=1, activation='sigmoid')\n",
    "output_layer.get_config()"
   ]
  },
  {
   "cell_type": "markdown",
   "id": "6d5e4a9a-4350-46ad-bf63-a334067a2a3f",
   "metadata": {},
   "source": [
    "#### Exercise 3: Architecture"
   ]
  },
  {
   "cell_type": "code",
   "execution_count": 21,
   "id": "8eddd178-b622-4acb-9174-a39398e3b61d",
   "metadata": {},
   "outputs": [
    {
     "name": "stdout",
     "output_type": "stream",
     "text": [
      "Model: \"sequential_10\"\n",
      "_________________________________________________________________\n",
      "Layer (type)                 Output Shape              Param #   \n",
      "=================================================================\n",
      "dense_24 (Dense)             (None, 8)                 48        \n",
      "_________________________________________________________________\n",
      "dense_25 (Dense)             (None, 4)                 36        \n",
      "_________________________________________________________________\n",
      "dense_26 (Dense)             (None, 1)                 5         \n",
      "=================================================================\n",
      "Total params: 89\n",
      "Trainable params: 89\n",
      "Non-trainable params: 0\n",
      "_________________________________________________________________\n"
     ]
    }
   ],
   "source": [
    "from keras import Sequential\n",
    "model = Sequential()\n",
    "model.add(Dense(8, input_shape=(5,), activation= 'sigmoid'))\n",
    "model.add(Dense(4, activation= 'sigmoid'))\n",
    "model.add(Dense(1, activation= 'linear'))\n",
    "model.summary()"
   ]
  },
  {
   "cell_type": "markdown",
   "id": "59bcb4b4-4247-4d4d-a158-543d371cf61a",
   "metadata": {},
   "source": [
    "#### Exercise 4: Optimize"
   ]
  },
  {
   "cell_type": "code",
   "execution_count": 22,
   "id": "cdcddc85-b64d-4da2-bab5-2c196a4145b6",
   "metadata": {},
   "outputs": [
    {
     "data": {
      "text/plain": [
       "[{'class_name': 'InputLayer',\n",
       "  'config': {'batch_input_shape': (None, 30),\n",
       "   'dtype': 'float32',\n",
       "   'sparse': False,\n",
       "   'ragged': False,\n",
       "   'name': 'dense_27_input'}},\n",
       " {'class_name': 'Dense',\n",
       "  'config': {'name': 'dense_27',\n",
       "   'trainable': True,\n",
       "   'batch_input_shape': (None, 30),\n",
       "   'dtype': 'float32',\n",
       "   'units': 10,\n",
       "   'activation': 'sigmoid',\n",
       "   'use_bias': True,\n",
       "   'kernel_initializer': {'class_name': 'GlorotUniform',\n",
       "    'config': {'seed': None}},\n",
       "   'bias_initializer': {'class_name': 'Zeros', 'config': {}},\n",
       "   'kernel_regularizer': None,\n",
       "   'bias_regularizer': None,\n",
       "   'activity_regularizer': None,\n",
       "   'kernel_constraint': None,\n",
       "   'bias_constraint': None}},\n",
       " {'class_name': 'Dense',\n",
       "  'config': {'name': 'dense_28',\n",
       "   'trainable': True,\n",
       "   'dtype': 'float32',\n",
       "   'units': 5,\n",
       "   'activation': 'sigmoid',\n",
       "   'use_bias': True,\n",
       "   'kernel_initializer': {'class_name': 'GlorotUniform',\n",
       "    'config': {'seed': None}},\n",
       "   'bias_initializer': {'class_name': 'Zeros', 'config': {}},\n",
       "   'kernel_regularizer': None,\n",
       "   'bias_regularizer': None,\n",
       "   'activity_regularizer': None,\n",
       "   'kernel_constraint': None,\n",
       "   'bias_constraint': None}},\n",
       " {'class_name': 'Dense',\n",
       "  'config': {'name': 'dense_29',\n",
       "   'trainable': True,\n",
       "   'dtype': 'float32',\n",
       "   'units': 1,\n",
       "   'activation': 'sigmoid',\n",
       "   'use_bias': True,\n",
       "   'kernel_initializer': {'class_name': 'GlorotUniform',\n",
       "    'config': {'seed': None}},\n",
       "   'bias_initializer': {'class_name': 'Zeros', 'config': {}},\n",
       "   'kernel_regularizer': None,\n",
       "   'bias_regularizer': None,\n",
       "   'activity_regularizer': None,\n",
       "   'kernel_constraint': None,\n",
       "   'bias_constraint': None}}]"
      ]
     },
     "execution_count": 22,
     "metadata": {},
     "output_type": "execute_result"
    }
   ],
   "source": [
    "from sklearn.datasets import load_breast_cancer\n",
    "import json\n",
    "\n",
    "data = load_breast_cancer()\n",
    "\n",
    "# print(df.head())\n",
    "\n",
    "model= Sequential(\n",
    "    [\n",
    "        Dense(10, input_shape=(30,), activation= 'sigmoid'),\n",
    "        Dense(5, activation= 'sigmoid'),\n",
    "        Dense(1, activation= 'sigmoid')\n",
    "    ]\n",
    ")\n",
    "\n",
    "model.get_config()['layers']"
   ]
  },
  {
   "cell_type": "code",
   "execution_count": 23,
   "id": "5ab6ce92-9441-4d21-96a4-7e929f5e712a",
   "metadata": {},
   "outputs": [
    {
     "name": "stdout",
     "output_type": "stream",
     "text": [
      "Epoch 1/30\n",
      "114/114 [==============================] - 2s 8ms/step - loss: 0.6953 - accuracy: 0.4980\n",
      "Epoch 2/30\n",
      "114/114 [==============================] - 1s 7ms/step - loss: 0.6564 - accuracy: 0.6144\n",
      "Epoch 3/30\n",
      "114/114 [==============================] - 1s 9ms/step - loss: 0.6348 - accuracy: 0.6225\n",
      "Epoch 4/30\n",
      "114/114 [==============================] - 1s 7ms/step - loss: 0.6189 - accuracy: 0.6381\n",
      "Epoch 5/30\n",
      "114/114 [==============================] - 1s 6ms/step - loss: 0.5768 - accuracy: 0.6707\n",
      "Epoch 6/30\n",
      "114/114 [==============================] - 1s 6ms/step - loss: 0.5588 - accuracy: 0.7163\n",
      "Epoch 7/30\n",
      "114/114 [==============================] - 1s 5ms/step - loss: 0.5242 - accuracy: 0.8655\n",
      "Epoch 8/30\n",
      "114/114 [==============================] - 1s 6ms/step - loss: 0.5057 - accuracy: 0.8430\n",
      "Epoch 9/30\n",
      "114/114 [==============================] - 1s 5ms/step - loss: 0.4873 - accuracy: 0.8902\n",
      "Epoch 10/30\n",
      "114/114 [==============================] - 1s 9ms/step - loss: 0.4539 - accuracy: 0.8646\n",
      "Epoch 11/30\n",
      "114/114 [==============================] - 1s 9ms/step - loss: 0.4245 - accuracy: 0.8947\n",
      "Epoch 12/30\n",
      "114/114 [==============================] - 2s 13ms/step - loss: 0.3949 - accuracy: 0.8884\n",
      "Epoch 13/30\n",
      "114/114 [==============================] - 2s 15ms/step - loss: 0.3789 - accuracy: 0.9058\n",
      "Epoch 14/30\n",
      "114/114 [==============================] - 1s 12ms/step - loss: 0.3512 - accuracy: 0.9083\n",
      "Epoch 15/30\n",
      "114/114 [==============================] - 1s 13ms/step - loss: 0.3182 - accuracy: 0.9135\n",
      "Epoch 16/30\n",
      "114/114 [==============================] - 1s 6ms/step - loss: 0.3172 - accuracy: 0.9093\n",
      "Epoch 17/30\n",
      "114/114 [==============================] - 1s 7ms/step - loss: 0.3118 - accuracy: 0.9086\n",
      "Epoch 18/30\n",
      "114/114 [==============================] - 1s 9ms/step - loss: 0.2847 - accuracy: 0.9195\n",
      "Epoch 19/30\n",
      "114/114 [==============================] - 1s 8ms/step - loss: 0.2964 - accuracy: 0.9016\n",
      "Epoch 20/30\n",
      "114/114 [==============================] - 1s 8ms/step - loss: 0.2719 - accuracy: 0.9163\n",
      "Epoch 21/30\n",
      "114/114 [==============================] - 1s 8ms/step - loss: 0.2720 - accuracy: 0.9119\n",
      "Epoch 22/30\n",
      "114/114 [==============================] - 1s 6ms/step - loss: 0.2835 - accuracy: 0.9037\n",
      "Epoch 23/30\n",
      "114/114 [==============================] - 1s 9ms/step - loss: 0.2509 - accuracy: 0.9074\n",
      "Epoch 24/30\n",
      "114/114 [==============================] - 1s 7ms/step - loss: 0.2437 - accuracy: 0.9204\n",
      "Epoch 25/30\n",
      "114/114 [==============================] - 1s 9ms/step - loss: 0.2998 - accuracy: 0.8821\n",
      "Epoch 26/30\n",
      "114/114 [==============================] - 1s 10ms/step - loss: 0.2598 - accuracy: 0.9076\n",
      "Epoch 27/30\n",
      "114/114 [==============================] - 1s 9ms/step - loss: 0.2200 - accuracy: 0.9220\n",
      "Epoch 28/30\n",
      "114/114 [==============================] - 1s 9ms/step - loss: 0.2596 - accuracy: 0.9018\n",
      "Epoch 29/30\n",
      "114/114 [==============================] - 1s 9ms/step - loss: 0.2735 - accuracy: 0.8990\n",
      "Epoch 30/30\n",
      "114/114 [==============================] - 1s 8ms/step - loss: 0.2046 - accuracy: 0.9330\n"
     ]
    },
    {
     "data": {
      "text/plain": [
       "<tensorflow.python.keras.callbacks.History at 0x73abcab8f340>"
      ]
     },
     "execution_count": 23,
     "metadata": {},
     "output_type": "execute_result"
    }
   ],
   "source": [
    "model.compile(\n",
    "    loss='binary_crossentropy',\n",
    "    optimizer='adam',\n",
    "    metrics=['accuracy']\n",
    ")\n",
    "X = data.data\n",
    "y = data.target\n",
    "model.fit(X, y, epochs=30, batch_size=5)"
   ]
  },
  {
   "cell_type": "code",
   "execution_count": null,
   "id": "e21b08d6-b081-42ff-b8f5-53eaecdc1f82",
   "metadata": {},
   "outputs": [
    {
     "name": "stdout",
     "output_type": "stream",
     "text": [
      "Epoch 1/50\n",
      "114/114 [==============================] - 1s 10ms/step - loss: 0.3689 - accuracy: 0.8418\n",
      "Epoch 2/50\n",
      "114/114 [==============================] - 1s 10ms/step - loss: 0.2054 - accuracy: 0.9315\n",
      "Epoch 3/50\n",
      "114/114 [==============================] - 1s 9ms/step - loss: 0.1639 - accuracy: 0.9508\n",
      "Epoch 4/50\n",
      "114/114 [==============================] - 1s 6ms/step - loss: 0.1397 - accuracy: 0.9631\n",
      "Epoch 5/50\n",
      "114/114 [==============================] - 1s 9ms/step - loss: 0.1237 - accuracy: 0.9701\n",
      "Epoch 6/50\n",
      "114/114 [==============================] - 1s 9ms/step - loss: 0.1115 - accuracy: 0.9684\n",
      "Epoch 7/50\n",
      "114/114 [==============================] - 1s 10ms/step - loss: 0.1021 - accuracy: 0.9754\n",
      "Epoch 8/50\n",
      "114/114 [==============================] - 1s 11ms/step - loss: 0.0952 - accuracy: 0.9789\n",
      "Epoch 9/50\n",
      "114/114 [==============================] - 1s 10ms/step - loss: 0.0892 - accuracy: 0.9789\n",
      "Epoch 10/50\n",
      "114/114 [==============================] - 1s 9ms/step - loss: 0.0843 - accuracy: 0.9842\n",
      "Epoch 11/50\n",
      "114/114 [==============================] - 1s 9ms/step - loss: 0.0805 - accuracy: 0.9842\n",
      "Epoch 12/50\n",
      "114/114 [==============================] - 1s 6ms/step - loss: 0.0768 - accuracy: 0.9877\n",
      "Epoch 13/50\n",
      "114/114 [==============================] - 1s 6ms/step - loss: 0.0737 - accuracy: 0.9877\n",
      "Epoch 14/50\n",
      "114/114 [==============================] - 1s 7ms/step - loss: 0.0710 - accuracy: 0.9859\n",
      "Epoch 15/50\n",
      "114/114 [==============================] - 1s 9ms/step - loss: 0.0685 - accuracy: 0.9877\n",
      "Epoch 16/50\n",
      "114/114 [==============================] - 1s 11ms/step - loss: 0.0665 - accuracy: 0.9877\n",
      "Epoch 17/50\n",
      "114/114 [==============================] - 1s 12ms/step - loss: 0.0646 - accuracy: 0.9895\n",
      "Epoch 18/50\n",
      "114/114 [==============================] - 1s 9ms/step - loss: 0.0630 - accuracy: 0.9877\n",
      "Epoch 19/50\n",
      "114/114 [==============================] - 1s 11ms/step - loss: 0.0614 - accuracy: 0.9877\n",
      "Epoch 20/50\n",
      "114/114 [==============================] - 2s 15ms/step - loss: 0.0599 - accuracy: 0.9877\n",
      "Epoch 21/50\n",
      "114/114 [==============================] - 1s 9ms/step - loss: 0.0587 - accuracy: 0.9877\n",
      "Epoch 22/50\n",
      " 10/114 [=>............................] - ETA: 1s - loss: 0.0333 - accuracy: 1.0000"
     ]
    }
   ],
   "source": [
    "\n",
    "#2\n",
    "from sklearn.preprocessing import StandardScaler\n",
    "scaler = StandardScaler()\n",
    "X_scaled = scaler.fit_transform(X)\n",
    "model.fit(X_scaled, y, epochs=50, batch_size=5)\n",
    "\n",
    "loss, accuracy = model.evaluate(X_scaled, y)\n",
    "print(f'Accuracy: {accuracy * 100:.2f}%')"
   ]
  }
 ],
 "metadata": {
  "kernelspec": {
   "display_name": "Python 3 (ipykernel)",
   "language": "python",
   "name": "python3"
  },
  "language_info": {
   "codemirror_mode": {
    "name": "ipython",
    "version": 3
   },
   "file_extension": ".py",
   "mimetype": "text/x-python",
   "name": "python",
   "nbconvert_exporter": "python",
   "pygments_lexer": "ipython3",
   "version": "3.8.20"
  }
 },
 "nbformat": 4,
 "nbformat_minor": 5
}
