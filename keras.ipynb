{
 "cells": [
  {
   "cell_type": "markdown",
   "id": "af134a31-3c8b-4687-b988-712713a02576",
   "metadata": {},
   "source": [
    "#### Exercise 1: Sequential"
   ]
  },
  {
   "cell_type": "code",
   "execution_count": null,
   "id": "421ae0a0-43ca-4c07-bcac-7b50f22346ae",
   "metadata": {},
   "outputs": [],
   "source": [
    "\n"
   ]
  },
  {
   "cell_type": "markdown",
   "id": "0481e82e-ea76-460e-945f-174961104f7b",
   "metadata": {
    "jp-MarkdownHeadingCollapsed": true
   },
   "source": [
    "#### Exercise 2: Dense"
   ]
  },
  {
   "cell_type": "markdown",
   "id": "6d5e4a9a-4350-46ad-bf63-a334067a2a3f",
   "metadata": {
    "jp-MarkdownHeadingCollapsed": true
   },
   "source": [
    "#### Exercise 3: Architecture"
   ]
  },
  {
   "cell_type": "markdown",
   "id": "59bcb4b4-4247-4d4d-a158-543d371cf61a",
   "metadata": {},
   "source": [
    "#### Exercise 4: Optimize"
   ]
  },
  {
   "cell_type": "code",
   "execution_count": null,
   "id": "cdcddc85-b64d-4da2-bab5-2c196a4145b6",
   "metadata": {},
   "outputs": [],
   "source": []
  }
 ],
 "metadata": {
  "kernelspec": {
   "display_name": "Python 3 (ipykernel)",
   "language": "python",
   "name": "python3"
  },
  "language_info": {
   "codemirror_mode": {
    "name": "ipython",
    "version": 3
   },
   "file_extension": ".py",
   "mimetype": "text/x-python",
   "name": "python",
   "nbconvert_exporter": "python",
   "pygments_lexer": "ipython3",
   "version": "3.8.20"
  }
 },
 "nbformat": 4,
 "nbformat_minor": 5
}
