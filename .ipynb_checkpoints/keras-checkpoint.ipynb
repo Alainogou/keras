{
 "cells": [
  {
   "cell_type": "markdown",
   "id": "af134a31-3c8b-4687-b988-712713a02576",
   "metadata": {},
   "source": [
    "#### Exercise 1: Sequential"
   ]
  },
  {
   "cell_type": "code",
   "execution_count": 9,
   "id": "421ae0a0-43ca-4c07-bcac-7b50f22346ae",
   "metadata": {},
   "outputs": [
    {
     "name": "stdout",
     "output_type": "stream",
     "text": [
      "<tensorflow.python.keras.engine.sequential.Sequential object at 0x77bab3f315e0>\n"
     ]
    }
   ],
   "source": [
    "from keras import Sequential\n",
    "model = Sequential()\n",
    "print(model)"
   ]
  },
  {
   "cell_type": "markdown",
   "id": "0481e82e-ea76-460e-945f-174961104f7b",
   "metadata": {},
   "source": [
    "#### Exercise 2: Dense"
   ]
  },
  {
   "cell_type": "code",
   "execution_count": 10,
   "id": "4d9159b6-2ee8-4123-9243-614072e03a5c",
   "metadata": {},
   "outputs": [
    {
     "data": {
      "text/plain": [
       "{'name': 'dense_2',\n",
       " 'trainable': True,\n",
       " 'batch_input_shape': (None, 5),\n",
       " 'dtype': 'float32',\n",
       " 'units': 8,\n",
       " 'activation': 'sigmoid',\n",
       " 'use_bias': True,\n",
       " 'kernel_initializer': {'class_name': 'GlorotUniform',\n",
       "  'config': {'seed': None}},\n",
       " 'bias_initializer': {'class_name': 'Zeros', 'config': {}},\n",
       " 'kernel_regularizer': None,\n",
       " 'bias_regularizer': None,\n",
       " 'activity_regularizer': None,\n",
       " 'kernel_constraint': None,\n",
       " 'bias_constraint': None}"
      ]
     },
     "execution_count": 10,
     "metadata": {},
     "output_type": "execute_result"
    }
   ],
   "source": [
    "from keras.layers import Dense\n",
    "first_hidden_layer = Dense(units=8, activation='sigmoid', input_shape=(5,))\n",
    "first_hidden_layer.get_config()"
   ]
  },
  {
   "cell_type": "code",
   "execution_count": 11,
   "id": "9c3469d4-9c39-45bd-ba23-4908a7b1a43b",
   "metadata": {},
   "outputs": [
    {
     "data": {
      "text/plain": [
       "{'name': 'dense_3',\n",
       " 'trainable': True,\n",
       " 'dtype': 'float32',\n",
       " 'units': 4,\n",
       " 'activation': 'sigmoid',\n",
       " 'use_bias': True,\n",
       " 'kernel_initializer': {'class_name': 'GlorotUniform',\n",
       "  'config': {'seed': None}},\n",
       " 'bias_initializer': {'class_name': 'Zeros', 'config': {}},\n",
       " 'kernel_regularizer': None,\n",
       " 'bias_regularizer': None,\n",
       " 'activity_regularizer': None,\n",
       " 'kernel_constraint': None,\n",
       " 'bias_constraint': None}"
      ]
     },
     "execution_count": 11,
     "metadata": {},
     "output_type": "execute_result"
    }
   ],
   "source": [
    "second_hidden_layer = Dense(units=4, activation='sigmoid')\n",
    "second_hidden_layer.get_config()"
   ]
  },
  {
   "cell_type": "code",
   "execution_count": null,
   "id": "27c84857-9047-4bdb-9d81-c821c13f31ec",
   "metadata": {},
   "outputs": [],
   "source": [
    "output_layer = Dense(units=1, activation='sigmoid')\n",
    "output_layer.get_config()"
   ]
  },
  {
   "cell_type": "markdown",
   "id": "6d5e4a9a-4350-46ad-bf63-a334067a2a3f",
   "metadata": {
    "jp-MarkdownHeadingCollapsed": true
   },
   "source": [
    "#### Exercise 3: Architecture"
   ]
  },
  {
   "cell_type": "markdown",
   "id": "59bcb4b4-4247-4d4d-a158-543d371cf61a",
   "metadata": {},
   "source": [
    "#### Exercise 4: Optimize"
   ]
  },
  {
   "cell_type": "code",
   "execution_count": null,
   "id": "cdcddc85-b64d-4da2-bab5-2c196a4145b6",
   "metadata": {},
   "outputs": [],
   "source": []
  }
 ],
 "metadata": {
  "kernelspec": {
   "display_name": "Python 3 (ipykernel)",
   "language": "python",
   "name": "python3"
  },
  "language_info": {
   "codemirror_mode": {
    "name": "ipython",
    "version": 3
   },
   "file_extension": ".py",
   "mimetype": "text/x-python",
   "name": "python",
   "nbconvert_exporter": "python",
   "pygments_lexer": "ipython3",
   "version": "3.8.20"
  }
 },
 "nbformat": 4,
 "nbformat_minor": 5
}
